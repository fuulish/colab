{
  "nbformat": 4,
  "nbformat_minor": 0,
  "metadata": {
    "colab": {
      "name": "WCT",
      "version": "0.3.2",
      "provenance": [],
      "collapsed_sections": [],
      "include_colab_link": true
    },
    "kernelspec": {
      "name": "python3",
      "display_name": "Python 3"
    },
    "accelerator": "GPU"
  },
  "cells": [
    {
      "cell_type": "markdown",
      "metadata": {
        "id": "view-in-github",
        "colab_type": "text"
      },
      "source": [
        "[View in Colaboratory](https://colab.research.google.com/github/fuulish/colab/blob/master/WCT.ipynb)"
      ]
    },
    {
      "metadata": {
        "id": "L2jkIk8NpDSG",
        "colab_type": "code",
        "colab": {
          "base_uri": "https://localhost:8080/",
          "height": 109
        },
        "outputId": "d5786d58-ea88-45e9-e9ef-9b0d38b8e949"
      },
      "cell_type": "code",
      "source": [
        "!pip3 install torch torchvision"
      ],
      "execution_count": 15,
      "outputs": [
        {
          "output_type": "stream",
          "text": [
            "Requirement already satisfied: torch in /usr/local/lib/python3.6/dist-packages (0.4.1)\n",
            "Requirement already satisfied: torchvision in /usr/local/lib/python3.6/dist-packages (0.2.1)\n",
            "Requirement already satisfied: numpy in /usr/local/lib/python3.6/dist-packages (from torchvision) (1.14.6)\n",
            "Requirement already satisfied: pillow>=4.1.1 in /usr/local/lib/python3.6/dist-packages (from torchvision) (5.3.0)\n",
            "Requirement already satisfied: six in /usr/local/lib/python3.6/dist-packages (from torchvision) (1.11.0)\n"
          ],
          "name": "stdout"
        }
      ]
    },
    {
      "metadata": {
        "id": "cfmi2Xe_pWNt",
        "colab_type": "code",
        "colab": {
          "base_uri": "https://localhost:8080/",
          "height": 146
        },
        "outputId": "cefed237-984a-4652-fb9a-c24a45452b4c"
      },
      "cell_type": "code",
      "source": [
        "%cd /content\n",
        "%rm -rf /content/PytorchWCT\n",
        "!git clone https://github.com/sunshineatnoon/PytorchWCT\n",
        "%cd PytorchWCT"
      ],
      "execution_count": 16,
      "outputs": [
        {
          "output_type": "stream",
          "text": [
            "/content\n",
            "Cloning into 'PytorchWCT'...\n",
            "remote: Enumerating objects: 113, done.\u001b[K\n",
            "remote: Total 113 (delta 0), reused 0 (delta 0), pack-reused 113\u001b[K\n",
            "Receiving objects: 100% (113/113), 6.30 MiB | 10.20 MiB/s, done.\n",
            "Resolving deltas: 100% (44/44), done.\n",
            "/content/PytorchWCT\n"
          ],
          "name": "stdout"
        }
      ]
    },
    {
      "metadata": {
        "id": "5dfbOwdErE_w",
        "colab_type": "code",
        "colab": {
          "base_uri": "https://localhost:8080/",
          "height": 35
        },
        "outputId": "74f63009-ee0c-4c9d-dda1-02061dbecca4"
      },
      "cell_type": "code",
      "source": [
        "from google.colab import drive\n",
        "drive.mount('/content/drive')"
      ],
      "execution_count": 17,
      "outputs": [
        {
          "output_type": "stream",
          "text": [
            "Mounted at /content/drive\n"
          ],
          "name": "stdout"
        }
      ]
    },
    {
      "metadata": {
        "id": "9elO7Z-GssNW",
        "colab_type": "code",
        "colab": {
          "base_uri": "https://localhost:8080/",
          "height": 403
        },
        "outputId": "b5b577dd-1ec4-4e42-b773-0f131b40198d"
      },
      "cell_type": "code",
      "source": [
        "!rsync -avz /content/drive/My\\ Drive/models ."
      ],
      "execution_count": 18,
      "outputs": [
        {
          "output_type": "stream",
          "text": [
            "sending incremental file list\n",
            "models/\n",
            "models/feature_invertor_conv1_1.t7\n",
            "models/feature_invertor_conv2_1.t7\n",
            "models/feature_invertor_conv3_1.t7\n",
            "models/feature_invertor_conv4_1.t7\n",
            "models/feature_invertor_conv5_1.t7\n",
            "models/vgg_normalised_conv1_1.t7\n",
            "models/vgg_normalised_conv2_1.t7\n",
            "models/vgg_normalised_conv3_1.t7\n",
            "models/vgg_normalised_conv4_1.t7\n",
            "models/vgg_normalised_conv5_1.t7\n",
            "models/cudann/\n",
            "models/cudann/feature_invertor_conv1_1.t7\n",
            "models/cudann/feature_invertor_conv2_1.t7\n",
            "models/cudann/feature_invertor_conv3_1.t7\n",
            "models/cudann/feature_invertor_conv4_1.t7\n",
            "models/cudann/feature_invertor_conv5_1.t7\n",
            "\n",
            "sent 268,808,694 bytes  received 317 bytes  7,364,630.44 bytes/sec\n",
            "total size is 479,506,468  speedup is 1.78\n"
          ],
          "name": "stdout"
        }
      ]
    },
    {
      "metadata": {
        "id": "aTbvNIwcAKIn",
        "colab_type": "code",
        "colab": {}
      },
      "cell_type": "code",
      "source": [
        "# %cp models/cudann/*t7 models/"
      ],
      "execution_count": 0,
      "outputs": []
    },
    {
      "metadata": {
        "id": "hyOsj7GLuuYD",
        "colab_type": "code",
        "colab": {}
      },
      "cell_type": "code",
      "source": [
        "# workaround \n",
        "# from PIL import Image\n",
        "# def register_extension(id, extension): Image.EXTENSION[extension.lower()] = id.upper()\n",
        "# Image.register_extension = register_extension\n",
        "# def register_extensions(id, extensions): \n",
        "#   for extension in extensions: register_extension(id, extension)\n",
        "# Image.register_extensions = register_extensions"
      ],
      "execution_count": 0,
      "outputs": []
    },
    {
      "metadata": {
        "id": "jwowlcUy08ze",
        "colab_type": "code",
        "colab": {
          "base_uri": "https://localhost:8080/",
          "height": 54
        },
        "outputId": "eff2ac53-8704-44ce-b1c1-fe73598a81a2"
      },
      "cell_type": "code",
      "source": [
        "%rm images/content/*.jpg images/style/*.jpg *.jpg samples/*.jpg"
      ],
      "execution_count": 59,
      "outputs": [
        {
          "output_type": "stream",
          "text": [
            "rm: cannot remove '*.jpg': No such file or directory\n",
            "rm: cannot remove 'samples/*.jpg': No such file or directory\n"
          ],
          "name": "stdout"
        }
      ]
    },
    {
      "metadata": {
        "id": "8qGie8LMkKGN",
        "colab_type": "code",
        "colab": {
          "base_uri": "https://localhost:8080/",
          "height": 348
        },
        "outputId": "45973e74-1a57-479b-8335-65221264af5c"
      },
      "cell_type": "code",
      "source": [
        "!rsync -avz /content/drive/My\\ Drive/WCT/ images/"
      ],
      "execution_count": 60,
      "outputs": [
        {
          "output_type": "stream",
          "text": [
            "sending incremental file list\n",
            "content/\n",
            "content/in1.jpg\n",
            "content/in2.jpg\n",
            "content/in3.jpg\n",
            "content/in4.jpg\n",
            "content/in5.jpg\n",
            "content/in6.jpg\n",
            "style/\n",
            "style/in1.jpg\n",
            "style/in2.jpg\n",
            "style/in3.jpg\n",
            "style/in4.jpg\n",
            "style/in5.jpg\n",
            "style/in6.jpg\n",
            "\n",
            "sent 1,647,986 bytes  received 256 bytes  3,296,484.00 bytes/sec\n",
            "total size is 1,667,832  speedup is 1.01\n"
          ],
          "name": "stdout"
        }
      ]
    },
    {
      "metadata": {
        "id": "NetaBBsexZqq",
        "colab_type": "code",
        "colab": {}
      },
      "cell_type": "code",
      "source": [
        "#from google.colab import files\n",
        "\n",
        "\n",
        "#uploaded = files.upload()\n",
        "\n",
        "#for fn in uploaded.keys():\n",
        "#  print('User uploaded file \"{name}\" with length {length} bytes'.format(\n",
        "#      name=fn, length=len(uploaded[fn])))\n",
        "\n",
        "#%mv *.jpg images/content"
      ],
      "execution_count": 0,
      "outputs": []
    },
    {
      "metadata": {
        "id": "Fh1M01oS5vPY",
        "colab_type": "code",
        "colab": {}
      },
      "cell_type": "code",
      "source": [
        "#from google.colab import files\n",
        "\n",
        "#uploaded = files.upload()\n",
        "\n",
        "#for fn in uploaded.keys():\n",
        "#  print('User uploaded file \"{name}\" with length {length} bytes'.format(\n",
        "#      name=fn, length=len(uploaded[fn])))\n",
        "\n",
        "#%mv *.jpg images/style"
      ],
      "execution_count": 0,
      "outputs": []
    },
    {
      "metadata": {
        "id": "RaD5-2pQ6Ixi",
        "colab_type": "code",
        "colab": {
          "base_uri": "https://localhost:8080/",
          "height": 109
        },
        "outputId": "c6a62ac4-f97b-4fe1-b97a-2ef4656f3590"
      },
      "cell_type": "code",
      "source": [
        "!ls images/content images/style"
      ],
      "execution_count": 63,
      "outputs": [
        {
          "output_type": "stream",
          "text": [
            "images/content:\n",
            "in1.jpg  in2.jpg  in3.jpg  in4.jpg  in5.jpg  in6.jpg\n",
            "\n",
            "images/style:\n",
            "in1.jpg  in2.jpg  in3.jpg  in4.jpg  in5.jpg  in6.jpg\n"
          ],
          "name": "stdout"
        }
      ]
    },
    {
      "metadata": {
        "id": "pFCYIdydwP3d",
        "colab_type": "code",
        "colab": {
          "base_uri": "https://localhost:8080/",
          "height": 439
        },
        "outputId": "50ae7e7c-2545-42d8-f530-ae5d567cbc5f"
      },
      "cell_type": "code",
      "source": [
        "!python WCT.py --alpha 1.0"
      ],
      "execution_count": 68,
      "outputs": [
        {
          "output_type": "stream",
          "text": [
            "/usr/local/lib/python3.6/dist-packages/torchvision/transforms/transforms.py:188: UserWarning: The use of the transforms.Scale transform is deprecated, please use transforms.Resize instead.\n",
            "  \"please use transforms.Resize instead.\")\n",
            "Transferring in5.jpg\n",
            "WCT.py:105: UserWarning: volatile was removed and now has no effect. Use `with torch.no_grad():` instead.\n",
            "  cImg = Variable(contentImg,volatile=True)\n",
            "WCT.py:106: UserWarning: volatile was removed and now has no effect. Use `with torch.no_grad():` instead.\n",
            "  sImg = Variable(styleImg,volatile=True)\n",
            "/usr/local/lib/python3.6/dist-packages/torch/nn/modules/upsampling.py:177: UserWarning: nn.UpsamplingNearest2d is deprecated. Use nn.functional.interpolate instead.\n",
            "  warnings.warn(\"nn.UpsamplingNearest2d is deprecated. Use nn.functional.interpolate instead.\")\n",
            "/usr/local/lib/python3.6/dist-packages/torch/nn/modules/upsampling.py:122: UserWarning: nn.Upsampling is deprecated. Use nn.functional.interpolate instead.\n",
            "  warnings.warn(\"nn.Upsampling is deprecated. Use nn.functional.interpolate instead.\")\n",
            "Elapsed time is: 36.467535\n",
            "Transferring in3.jpg\n",
            "Elapsed time is: 32.240265\n",
            "Transferring in6.jpg\n",
            "Elapsed time is: 32.183297\n",
            "Transferring in2.jpg\n",
            "Elapsed time is: 31.927217\n",
            "Transferring in1.jpg\n",
            "Elapsed time is: 31.950664\n",
            "Transferring in4.jpg\n",
            "Elapsed time is: 32.023124\n",
            "Processed 6 images. Averaged time is 32.798684\n"
          ],
          "name": "stdout"
        }
      ]
    },
    {
      "metadata": {
        "id": "pf4C_pUAw52p",
        "colab_type": "code",
        "colab": {
          "base_uri": "https://localhost:8080/",
          "height": 35
        },
        "outputId": "041c805a-7b7a-47f7-f3bf-8a4e5e2669ec"
      },
      "cell_type": "code",
      "source": [
        "from google.colab import files\n",
        "from glob import glob\n",
        "\n",
        "fns = glob('samples/*.jpg')\n",
        "\n",
        "print(fns)\n",
        "\n",
        "for fn in fns:\n",
        "  files.download(fn)"
      ],
      "execution_count": 69,
      "outputs": [
        {
          "output_type": "stream",
          "text": [
            "['samples/in5.jpg', 'samples/in3.jpg', 'samples/in6.jpg', 'samples/in2.jpg', 'samples/in1.jpg', 'samples/in4.jpg']\n"
          ],
          "name": "stdout"
        }
      ]
    }
  ]
}