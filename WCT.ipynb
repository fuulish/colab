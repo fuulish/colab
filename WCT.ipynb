{
  "nbformat": 4,
  "nbformat_minor": 0,
  "metadata": {
    "colab": {
      "name": "WCT",
      "version": "0.3.2",
      "provenance": [],
      "collapsed_sections": [],
      "include_colab_link": true
    },
    "kernelspec": {
      "name": "python3",
      "display_name": "Python 3"
    },
    "accelerator": "GPU"
  },
  "cells": [
    {
      "cell_type": "markdown",
      "metadata": {
        "id": "view-in-github",
        "colab_type": "text"
      },
      "source": [
        "[View in Colaboratory](https://colab.research.google.com/github/fuulish/colab/blob/master/WCT.ipynb)"
      ]
    },
    {
      "metadata": {
        "id": "L2jkIk8NpDSG",
        "colab_type": "code",
        "colab": {
          "base_uri": "https://localhost:8080/",
          "height": 109
        },
        "outputId": "d5786d58-ea88-45e9-e9ef-9b0d38b8e949"
      },
      "cell_type": "code",
      "source": [
        "!pip3 install torch torchvision"
      ],
      "execution_count": 15,
      "outputs": [
        {
          "output_type": "stream",
          "text": [
            "Requirement already satisfied: torch in /usr/local/lib/python3.6/dist-packages (0.4.1)\n",
            "Requirement already satisfied: torchvision in /usr/local/lib/python3.6/dist-packages (0.2.1)\n",
            "Requirement already satisfied: numpy in /usr/local/lib/python3.6/dist-packages (from torchvision) (1.14.6)\n",
            "Requirement already satisfied: pillow>=4.1.1 in /usr/local/lib/python3.6/dist-packages (from torchvision) (5.3.0)\n",
            "Requirement already satisfied: six in /usr/local/lib/python3.6/dist-packages (from torchvision) (1.11.0)\n"
          ],
          "name": "stdout"
        }
      ]
    },
    {
      "metadata": {
        "id": "cfmi2Xe_pWNt",
        "colab_type": "code",
        "colab": {
          "base_uri": "https://localhost:8080/",
          "height": 146
        },
        "outputId": "cefed237-984a-4652-fb9a-c24a45452b4c"
      },
      "cell_type": "code",
      "source": [
        "%cd /content\n",
        "%rm -rf /content/PytorchWCT\n",
        "!git clone https://github.com/sunshineatnoon/PytorchWCT\n",
        "%cd PytorchWCT"
      ],
      "execution_count": 16,
      "outputs": [
        {
          "output_type": "stream",
          "text": [
            "/content\n",
            "Cloning into 'PytorchWCT'...\n",
            "remote: Enumerating objects: 113, done.\u001b[K\n",
            "remote: Total 113 (delta 0), reused 0 (delta 0), pack-reused 113\u001b[K\n",
            "Receiving objects: 100% (113/113), 6.30 MiB | 10.20 MiB/s, done.\n",
            "Resolving deltas: 100% (44/44), done.\n",
            "/content/PytorchWCT\n"
          ],
          "name": "stdout"
        }
      ]
    },
    {
      "metadata": {
        "id": "5dfbOwdErE_w",
        "colab_type": "code",
        "colab": {
          "base_uri": "https://localhost:8080/",
          "height": 35
        },
        "outputId": "74f63009-ee0c-4c9d-dda1-02061dbecca4"
      },
      "cell_type": "code",
      "source": [
        "from google.colab import drive\n",
        "drive.mount('/content/drive')"
      ],
      "execution_count": 17,
      "outputs": [
        {
          "output_type": "stream",
          "text": [
            "Mounted at /content/drive\n"
          ],
          "name": "stdout"
        }
      ]
    },
    {
      "metadata": {
        "id": "9elO7Z-GssNW",
        "colab_type": "code",
        "colab": {
          "base_uri": "https://localhost:8080/",
          "height": 403
        },
        "outputId": "b5b577dd-1ec4-4e42-b773-0f131b40198d"
      },
      "cell_type": "code",
      "source": [
        "!rsync -avz /content/drive/My\\ Drive/models ."
      ],
      "execution_count": 18,
      "outputs": [
        {
          "output_type": "stream",
          "text": [
            "sending incremental file list\n",
            "models/\n",
            "models/feature_invertor_conv1_1.t7\n",
            "models/feature_invertor_conv2_1.t7\n",
            "models/feature_invertor_conv3_1.t7\n",
            "models/feature_invertor_conv4_1.t7\n",
            "models/feature_invertor_conv5_1.t7\n",
            "models/vgg_normalised_conv1_1.t7\n",
            "models/vgg_normalised_conv2_1.t7\n",
            "models/vgg_normalised_conv3_1.t7\n",
            "models/vgg_normalised_conv4_1.t7\n",
            "models/vgg_normalised_conv5_1.t7\n",
            "models/cudann/\n",
            "models/cudann/feature_invertor_conv1_1.t7\n",
            "models/cudann/feature_invertor_conv2_1.t7\n",
            "models/cudann/feature_invertor_conv3_1.t7\n",
            "models/cudann/feature_invertor_conv4_1.t7\n",
            "models/cudann/feature_invertor_conv5_1.t7\n",
            "\n",
            "sent 268,808,694 bytes  received 317 bytes  7,364,630.44 bytes/sec\n",
            "total size is 479,506,468  speedup is 1.78\n"
          ],
          "name": "stdout"
        }
      ]
    },
    {
      "metadata": {
        "id": "aTbvNIwcAKIn",
        "colab_type": "code",
        "colab": {}
      },
      "cell_type": "code",
      "source": [
        "# %cp models/cudann/*t7 models/"
      ],
      "execution_count": 0,
      "outputs": []
    },
    {
      "metadata": {
        "id": "hyOsj7GLuuYD",
        "colab_type": "code",
        "colab": {}
      },
      "cell_type": "code",
      "source": [
        "# workaround \n",
        "# from PIL import Image\n",
        "# def register_extension(id, extension): Image.EXTENSION[extension.lower()] = id.upper()\n",
        "# Image.register_extension = register_extension\n",
        "# def register_extensions(id, extensions): \n",
        "#   for extension in extensions: register_extension(id, extension)\n",
        "# Image.register_extensions = register_extensions"
      ],
      "execution_count": 0,
      "outputs": []
    },
    {
      "metadata": {
        "id": "jwowlcUy08ze",
        "colab_type": "code",
        "colab": {
          "base_uri": "https://localhost:8080/",
          "height": 90
        },
        "outputId": "4a5a066d-6608-4870-d579-b37c844a5502"
      },
      "cell_type": "code",
      "source": [
        "%rm images/content/*.jpg images/style/*.jpg *.jpg samples/*.jpg"
      ],
      "execution_count": 29,
      "outputs": [
        {
          "output_type": "stream",
          "text": [
            "rm: cannot remove 'images/content/*.jpg': No such file or directory\n",
            "rm: cannot remove 'images/style/*.jpg': No such file or directory\n",
            "rm: cannot remove '*.jpg': No such file or directory\n",
            "rm: cannot remove 'samples/*.jpg': No such file or directory\n"
          ],
          "name": "stdout"
        }
      ]
    },
    {
      "metadata": {
        "id": "8qGie8LMkKGN",
        "colab_type": "code",
        "colab": {
          "base_uri": "https://localhost:8080/",
          "height": 219
        },
        "outputId": "bc6a4a5e-b09d-4676-8837-829f335767ed"
      },
      "cell_type": "code",
      "source": [
        "!rsync -avz /content/drive/My\\ Drive/WCT/ images/"
      ],
      "execution_count": 30,
      "outputs": [
        {
          "output_type": "stream",
          "text": [
            "sending incremental file list\n",
            "./\n",
            "content/\n",
            "content/in1.jpg\n",
            "content/in2.jpg\n",
            "style/\n",
            "style/in1.jpg\n",
            "style/in2.jpg\n",
            "\n",
            "sent 521,730 bytes  received 111 bytes  347,894.00 bytes/sec\n",
            "total size is 529,114  speedup is 1.01\n"
          ],
          "name": "stdout"
        }
      ]
    },
    {
      "metadata": {
        "id": "NetaBBsexZqq",
        "colab_type": "code",
        "colab": {}
      },
      "cell_type": "code",
      "source": [
        "#from google.colab import files\n",
        "\n",
        "\n",
        "#uploaded = files.upload()\n",
        "\n",
        "#for fn in uploaded.keys():\n",
        "#  print('User uploaded file \"{name}\" with length {length} bytes'.format(\n",
        "#      name=fn, length=len(uploaded[fn])))\n",
        "\n",
        "#%mv *.jpg images/content"
      ],
      "execution_count": 0,
      "outputs": []
    },
    {
      "metadata": {
        "id": "Fh1M01oS5vPY",
        "colab_type": "code",
        "colab": {}
      },
      "cell_type": "code",
      "source": [
        "#from google.colab import files\n",
        "\n",
        "#uploaded = files.upload()\n",
        "\n",
        "#for fn in uploaded.keys():\n",
        "#  print('User uploaded file \"{name}\" with length {length} bytes'.format(\n",
        "#      name=fn, length=len(uploaded[fn])))\n",
        "\n",
        "#%mv *.jpg images/style"
      ],
      "execution_count": 0,
      "outputs": []
    },
    {
      "metadata": {
        "id": "RaD5-2pQ6Ixi",
        "colab_type": "code",
        "colab": {
          "base_uri": "https://localhost:8080/",
          "height": 109
        },
        "outputId": "6178cf54-576b-442a-f89b-666c53a24a60"
      },
      "cell_type": "code",
      "source": [
        "!ls images/content images/style"
      ],
      "execution_count": 33,
      "outputs": [
        {
          "output_type": "stream",
          "text": [
            "images/content:\n",
            "in1.jpg  in2.jpg\n",
            "\n",
            "images/style:\n",
            "in1.jpg  in2.jpg\n"
          ],
          "name": "stdout"
        }
      ]
    },
    {
      "metadata": {
        "id": "pFCYIdydwP3d",
        "colab_type": "code",
        "colab": {
          "base_uri": "https://localhost:8080/",
          "height": 293
        },
        "outputId": "1d34ce5f-7712-44a7-be70-9afa29650a23"
      },
      "cell_type": "code",
      "source": [
        "!python WCT.py --alpha 0.5"
      ],
      "execution_count": 34,
      "outputs": [
        {
          "output_type": "stream",
          "text": [
            "/usr/local/lib/python3.6/dist-packages/torchvision/transforms/transforms.py:188: UserWarning: The use of the transforms.Scale transform is deprecated, please use transforms.Resize instead.\n",
            "  \"please use transforms.Resize instead.\")\n",
            "Transferring in2.jpg\n",
            "WCT.py:105: UserWarning: volatile was removed and now has no effect. Use `with torch.no_grad():` instead.\n",
            "  cImg = Variable(contentImg,volatile=True)\n",
            "WCT.py:106: UserWarning: volatile was removed and now has no effect. Use `with torch.no_grad():` instead.\n",
            "  sImg = Variable(styleImg,volatile=True)\n",
            "/usr/local/lib/python3.6/dist-packages/torch/nn/modules/upsampling.py:177: UserWarning: nn.UpsamplingNearest2d is deprecated. Use nn.functional.interpolate instead.\n",
            "  warnings.warn(\"nn.UpsamplingNearest2d is deprecated. Use nn.functional.interpolate instead.\")\n",
            "/usr/local/lib/python3.6/dist-packages/torch/nn/modules/upsampling.py:122: UserWarning: nn.Upsampling is deprecated. Use nn.functional.interpolate instead.\n",
            "  warnings.warn(\"nn.Upsampling is deprecated. Use nn.functional.interpolate instead.\")\n",
            "Elapsed time is: 36.003567\n",
            "Transferring in1.jpg\n",
            "Elapsed time is: 32.325658\n",
            "Processed 2 images. Averaged time is 34.164612\n"
          ],
          "name": "stdout"
        }
      ]
    },
    {
      "metadata": {
        "id": "pf4C_pUAw52p",
        "colab_type": "code",
        "colab": {
          "base_uri": "https://localhost:8080/",
          "height": 35
        },
        "outputId": "69a74922-4ee8-472d-a275-75b24e009456"
      },
      "cell_type": "code",
      "source": [
        "from google.colab import files\n",
        "from glob import glob\n",
        "\n",
        "fns = glob('samples/*.jpg')\n",
        "\n",
        "print(fns)\n",
        "\n",
        "for fn in fns:\n",
        "  files.download(fn)"
      ],
      "execution_count": 35,
      "outputs": [
        {
          "output_type": "stream",
          "text": [
            "['samples/in2.jpg', 'samples/in1.jpg']\n"
          ],
          "name": "stdout"
        }
      ]
    }
  ]
}