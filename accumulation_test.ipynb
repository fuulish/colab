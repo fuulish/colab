{
  "nbformat": 4,
  "nbformat_minor": 0,
  "metadata": {
    "colab": {
      "name": "accumulation_test.ipynb",
      "version": "0.3.2",
      "provenance": []
    },
    "kernelspec": {
      "name": "python3",
      "display_name": "Python 3"
    },
    "accelerator": "GPU"
  },
  "cells": [
    {
      "cell_type": "markdown",
      "metadata": {
        "id": "view-in-github",
        "colab_type": "text"
      },
      "source": [
        "[View in Colaboratory](https://colab.research.google.com/github/fuulish/colab/blob/master/accumulation_test.ipynb)"
      ]
    },
    {
      "metadata": {
        "id": "5D0eeMjlYrBF",
        "colab_type": "text"
      },
      "cell_type": "markdown",
      "source": [
        "Install necessary components"
      ]
    },
    {
      "metadata": {
        "id": "H94QJ2RvVQsm",
        "colab_type": "code",
        "colab": {
          "base_uri": "https://localhost:8080/",
          "height": 127
        },
        "outputId": "bb55f0b8-32dc-4c03-d512-1f627a83e11d"
      },
      "cell_type": "code",
      "source": [
        "!pip3 install http://download.pytorch.org/whl/cu80/torch-0.3.0.post4-cp36-cp36m-linux_x86_64.whl "
      ],
      "execution_count": 40,
      "outputs": [
        {
          "output_type": "stream",
          "text": [
            "Requirement already satisfied: torch==0.3.0.post4 from http://download.pytorch.org/whl/cu80/torch-0.3.0.post4-cp36-cp36m-linux_x86_64.whl in /usr/local/lib/python3.6/dist-packages\n",
            "Requirement already satisfied: pyyaml in /usr/local/lib/python3.6/dist-packages (from torch==0.3.0.post4)\n",
            "Requirement already satisfied: numpy in /usr/local/lib/python3.6/dist-packages (from torch==0.3.0.post4)\n",
            "\u001b[33mYou are using pip version 9.0.3, however version 10.0.1 is available.\n",
            "You should consider upgrading via the 'pip install --upgrade pip' command.\u001b[0m\n"
          ],
          "name": "stdout"
        }
      ]
    },
    {
      "metadata": {
        "id": "7_ojW53oY37o",
        "colab_type": "text"
      },
      "cell_type": "markdown",
      "source": [
        ""
      ]
    },
    {
      "metadata": {
        "id": "1ykG9F1HY7KX",
        "colab_type": "text"
      },
      "cell_type": "markdown",
      "source": [
        "general preparations"
      ]
    },
    {
      "metadata": {
        "id": "v9L5JQGxVIe0",
        "colab_type": "code",
        "colab": {}
      },
      "cell_type": "code",
      "source": [
        "import numpy as np\n",
        "import matplotlib.pyplot as plt\n",
        "import torch\n",
        "from torch.autograd import Variable\n",
        "from torch.nn import init\n",
        "\n",
        "import itertools\n",
        "\n",
        "use_cuda = True\n",
        "use_cuda = use_cuda and torch.cuda.is_available()\n",
        "dtype = torch.FloatTensor\n",
        "\n",
        "if use_cuda:\n",
        "    dtype = torch.cuda.FloatTensor"
      ],
      "execution_count": 0,
      "outputs": []
    },
    {
      "metadata": {
        "id": "4zzrIXDyY_g1",
        "colab_type": "text"
      },
      "cell_type": "markdown",
      "source": [
        "create general model"
      ]
    },
    {
      "metadata": {
        "id": "LE7yFRDBVNNf",
        "colab_type": "code",
        "colab": {}
      },
      "cell_type": "code",
      "source": [
        "class Net(torch.nn.Module):\n",
        "    def __init__(self, D_in, H, D_out, bias=None):\n",
        "        super(Net, self).__init__()\n",
        "        self.fc1 = torch.nn.Linear(D_in, H)\n",
        "        self.fc2 = torch.nn.Linear(H, H)\n",
        "        self.fc3 = torch.nn.Linear(H, D_out)\n",
        "\n",
        "        init.xavier_uniform(self.fc1.weight, gain=np.sqrt(2))\n",
        "        init.xavier_uniform(self.fc2.weight, gain=np.sqrt(2))\n",
        "        init.xavier_uniform(self.fc3.weight, gain=np.sqrt(2))\n",
        "\n",
        "        if bias is not None:\n",
        "            init.constant(self.fc3.bias, bias)\n",
        "            self.fc3.bias.requires_grad = False\n",
        "\n",
        "        # self.activation = torch.nn.ReLU()\n",
        "        self.activation = torch.nn.Tanh()\n",
        "\n",
        "    def forward(self, x):\n",
        "        x = self.fc1(x)\n",
        "        x = self.activation(x)\n",
        "        x = self.fc2(x)\n",
        "        x = self.activation(x)\n",
        "        x = self.fc3(x)\n",
        "\n",
        "        return x"
      ],
      "execution_count": 0,
      "outputs": []
    },
    {
      "metadata": {
        "id": "Tg6mKkYrZDRF",
        "colab_type": "text"
      },
      "cell_type": "markdown",
      "source": [
        "prep data"
      ]
    },
    {
      "metadata": {
        "id": "rcTipYJWVcQ_",
        "colab_type": "code",
        "colab": {}
      },
      "cell_type": "code",
      "source": [
        "natom = 10\n",
        "npoint = 10000\n",
        "\n",
        "x1 = np.random.rand(natom, npoint, 1)\n",
        "x2 = np.random.rand(natom, npoint, 1)\n",
        "\n",
        "y = np.sum(np.exp(-x1) + np.sin(x2), axis=0)\n",
        "\n",
        "# x1 = 2.*(x1 - np.min(x1))/(np.max(x1)-np.min(x1)) - 1\n",
        "# x2 = 2.*(x2 - np.min(x2))/(np.max(x2)-np.min(x2)) - 1\n",
        "\n",
        "# x1 = (x1 - x1.mean()) / x1.std()\n",
        "# x2 = (x2 - x2.mean()) / x2.std()\n",
        "\n",
        "x1 = torch.autograd.Variable(torch.Tensor(x1).type(dtype))\n",
        "x2 = torch.autograd.Variable(torch.Tensor(x2).type(dtype))\n",
        "\n",
        "y = torch.autograd.Variable(torch.Tensor(y).type(dtype))"
      ],
      "execution_count": 0,
      "outputs": []
    },
    {
      "metadata": {
        "id": "c7Pq6J9weUBk",
        "colab_type": "text"
      },
      "cell_type": "markdown",
      "source": [
        "setup models"
      ]
    },
    {
      "metadata": {
        "id": "YnQ4HGSfeGur",
        "colab_type": "code",
        "colab": {}
      },
      "cell_type": "code",
      "source": [
        "models = []\n",
        "for x in [x1, x2]:\n",
        "    model = Net(1, 10, 1) #, bias=x.mean())\n",
        "    if use_cuda:\n",
        "        model = model.cuda()\n",
        "    models.append(model)"
      ],
      "execution_count": 0,
      "outputs": []
    },
    {
      "metadata": {
        "id": "FcLjkMBMeYPa",
        "colab_type": "text"
      },
      "cell_type": "markdown",
      "source": [
        "setup optimizers"
      ]
    },
    {
      "metadata": {
        "id": "zXJ8OO4neXd-",
        "colab_type": "code",
        "colab": {}
      },
      "cell_type": "code",
      "source": [
        "parmchain = itertools.chain()\n",
        "\n",
        "for model in models:\n",
        "    parmchain = itertools.chain(parmchain, model.parameters())\n",
        "\n",
        "base_learning_rate = learning_rate = 1.e-1\n",
        "optimizer = torch.optim.Adam(filter(lambda p: p.requires_grad, parmchain), lr=learning_rate)\n",
        "# optimizer = torch.optim.SGD(filter(lambda p: p.requires_grad, parmchain), lr=learning_rate)\n",
        "\n",
        "lambda1 = lambda epoch: 0.999**epoch\n",
        "lambda1 = lambda epoch: 1.\n",
        "scheduler = torch.optim.lr_scheduler.LambdaLR(optimizer, lr_lambda=[lambda1])\n",
        "\n",
        "loss_func = torch.nn.MSELoss(size_average=True)\n",
        "\n",
        "nepoch = 1000\n",
        "\n",
        "def evaluate(models, features):\n",
        "    y_pred = 0.\n",
        "    for model, x in zip(models, features):\n",
        "        y_pred += torch.sum(model(x), dim=0)\n",
        "\n",
        "    return y_pred"
      ],
      "execution_count": 0,
      "outputs": []
    },
    {
      "metadata": {
        "id": "QqS8C7SQZFiN",
        "colab_type": "text"
      },
      "cell_type": "markdown",
      "source": [
        "optimize model"
      ]
    },
    {
      "metadata": {
        "id": "NvL-imraVkTE",
        "colab_type": "code",
        "colab": {
          "base_uri": "https://localhost:8080/",
          "height": 1817
        },
        "outputId": "2f1ab14f-3e7d-4a39-8677-89413a5041aa"
      },
      "cell_type": "code",
      "source": [
        "for t in range(nepoch):\n",
        "    y_pred = evaluate(models, [x1, x2])\n",
        "\n",
        "    optimizer.zero_grad()\n",
        "    loss = loss_func(y_pred, y)\n",
        "    loss.backward()\n",
        "\n",
        "    optimizer.step()\n",
        "    scheduler.step()\n",
        "\n",
        "    if t % 10 == 0:\n",
        "        print(t, loss.data.cpu()[0])"
      ],
      "execution_count": 46,
      "outputs": [
        {
          "output_type": "stream",
          "text": [
            "0 117.46773529052734\n",
            "10 101.51406860351562\n",
            "20 30.345787048339844\n",
            "30 1.9121906757354736\n",
            "40 2.371114730834961\n",
            "50 1.3869527578353882\n",
            "60 0.17920561134815216\n",
            "70 0.16376818716526031\n",
            "80 0.15135204792022705\n",
            "90 0.11341886967420578\n",
            "100 0.09032107889652252\n",
            "110 0.07859744131565094\n",
            "120 0.07227551192045212\n",
            "130 0.06835563480854034\n",
            "140 0.06527593731880188\n",
            "150 0.06228544935584068\n",
            "160 0.05931776762008667\n",
            "170 0.05645168945193291\n",
            "180 0.05364321917295456\n",
            "190 0.05089811608195305\n",
            "200 0.04822598397731781\n",
            "210 0.04563141614198685\n",
            "220 0.0431201197206974\n",
            "230 0.040696144104003906\n",
            "240 0.038362544029951096\n",
            "250 0.03612156957387924\n",
            "260 0.03397460654377937\n",
            "270 0.03192225471138954\n",
            "280 0.029964447021484375\n",
            "290 0.028100550174713135\n",
            "300 0.026329373940825462\n",
            "310 0.024649281054735184\n",
            "320 0.023058287799358368\n",
            "330 0.021554088220000267\n",
            "340 0.020134111866354942\n",
            "350 0.018795600160956383\n",
            "360 0.01753564551472664\n",
            "370 0.016351211816072464\n",
            "380 0.015239227563142776\n",
            "390 0.014196556061506271\n",
            "400 0.013220039196312428\n",
            "410 0.01230656448751688\n",
            "420 0.011453014798462391\n",
            "430 0.01065636146813631\n",
            "440 0.009913611225783825\n",
            "450 0.009221840649843216\n",
            "460 0.008578226901590824\n",
            "470 0.007980043068528175\n",
            "480 0.007424633949995041\n",
            "490 0.006909468211233616\n",
            "500 0.006432075519114733\n",
            "510 0.005990118253976107\n",
            "520 0.005581360775977373\n",
            "530 0.005203663371503353\n",
            "540 0.004854968283325434\n",
            "550 0.004533356986939907\n",
            "560 0.00423697242513299\n",
            "570 0.003964074421674013\n",
            "580 0.0037130096461623907\n",
            "590 0.003482209052890539\n",
            "600 0.0032702095340937376\n",
            "610 0.003075607120990753\n",
            "620 0.0028971098363399506\n",
            "630 0.0027334762271493673\n",
            "640 0.002583566587418318\n",
            "650 0.002446297090500593\n",
            "660 0.0023206647019833326\n",
            "670 0.0022057248279452324\n",
            "680 0.0021006010938435793\n",
            "690 0.002004477893933654\n",
            "700 0.0019165975973010063\n",
            "710 0.0018362558912485838\n",
            "720 0.0017627973575145006\n",
            "730 0.0016956275794655085\n",
            "740 0.0016341789159923792\n",
            "750 0.001577940653078258\n",
            "760 0.0015264346729964018\n",
            "770 0.0014792387373745441\n",
            "780 0.001435938524082303\n",
            "790 0.0013961713993921876\n",
            "800 0.0013596097705885768\n",
            "810 0.0013259329134598374\n",
            "820 0.0012948679504916072\n",
            "830 0.0012661594664677978\n",
            "840 0.0012395763769745827\n",
            "850 0.0012149002868682146\n",
            "860 0.0011919443495571613\n",
            "870 0.0011705339420586824\n",
            "880 0.0011505123693495989\n",
            "890 0.001131734112277627\n",
            "900 0.0011140749556943774\n",
            "910 0.001097413245588541\n",
            "920 0.0010816504945978522\n",
            "930 0.0010666897287592292\n",
            "940 0.001052450854331255\n",
            "950 0.001038854825310409\n",
            "960 0.0010258329566568136\n",
            "970 0.0010133299510926008\n",
            "980 0.0010012856218963861\n",
            "990 0.00098965794313699\n"
          ],
          "name": "stdout"
        }
      ]
    },
    {
      "metadata": {
        "id": "i5RW2HTvZHgn",
        "colab_type": "text"
      },
      "cell_type": "markdown",
      "source": [
        "plot results"
      ]
    },
    {
      "metadata": {
        "id": "2WmqdE9oVmDw",
        "colab_type": "code",
        "colab": {
          "base_uri": "https://localhost:8080/",
          "height": 348
        },
        "outputId": "21b2d6fa-0d63-422d-d411-012946d3c3ae"
      },
      "cell_type": "code",
      "source": [
        "stride = 1000\n",
        "\n",
        "p1 = plt.plot(y.data.cpu().numpy()[::stride] / natom, label='total')\n",
        "p2 = plt.plot(np.exp(-x1[0].data.cpu().numpy().sum(axis=1))[::stride], label='f1')\n",
        "p3 = plt.plot(np.sin(x2[0].data.cpu().numpy().sum(axis=1))[::stride], label='f2')\n",
        "p4 = plt.plot(np.sin(x2[1].data.cpu().numpy().sum(axis=1))[::stride], label='f3')\n",
        "\n",
        "plt.plot(evaluate(models, [x1,x2]).data.cpu().numpy()[::stride] / natom, '--', color=p1[0].get_color())\n",
        "plt.plot(models[0](x1[0]).data.cpu().numpy().sum(axis=1)[::stride], '--', color=p2[0].get_color())\n",
        "plt.plot(models[1](x2[0]).data.cpu().numpy().sum(axis=1)[::stride], '--', color=p3[0].get_color())\n",
        "plt.plot(models[1](x2[1]).data.cpu().numpy().sum(axis=1)[::stride], '--', color=p4[0].get_color())\n",
        "\n",
        "plt.legend()\n",
        "\n",
        "plt.show()"
      ],
      "execution_count": 47,
      "outputs": [
        {
          "output_type": "display_data",
          "data": {
            "image/png": "[encoded data removed]",
            "text/plain": [
              "<matplotlib.figure.Figure at 0x7f7a4eecd518>"
            ]
          },
          "metadata": {
            "tags": []
          }
        }
      ]
    }
  ]
}