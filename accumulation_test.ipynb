{
  "nbformat": 4,
  "nbformat_minor": 0,
  "metadata": {
    "colab": {
      "name": "accumulation_test.ipynb",
      "version": "0.3.2",
      "provenance": []
    },
    "kernelspec": {
      "name": "python3",
      "display_name": "Python 3"
    },
    "accelerator": "GPU"
  },
  "cells": [
    {
      "cell_type": "markdown",
      "metadata": {
        "id": "view-in-github",
        "colab_type": "text"
      },
      "source": [
        "[View in Colaboratory](https://colab.research.google.com/github/fuulish/colab/blob/master/accumulation_test.ipynb)"
      ]
    },
    {
      "metadata": {
        "id": "5D0eeMjlYrBF",
        "colab_type": "text"
      },
      "cell_type": "markdown",
      "source": [
        "Install necessary components"
      ]
    },
    {
      "metadata": {
        "id": "H94QJ2RvVQsm",
        "colab_type": "code",
        "colab": {
          "base_uri": "https://localhost:8080/",
          "height": 179
        },
        "outputId": "4343dbdf-0943-4dc5-f318-7d467aa903bc"
      },
      "cell_type": "code",
      "source": [
        "!pip3 install http://download.pytorch.org/whl/cu80/torch-0.3.0.post4-cp36-cp36m-linux_x86_64.whl "
      ],
      "execution_count": 2,
      "outputs": [
        {
          "output_type": "stream",
          "text": [
            "Collecting torch==0.3.0.post4 from http://download.pytorch.org/whl/cu80/torch-0.3.0.post4-cp36-cp36m-linux_x86_64.whl\n",
            "  Downloading http://download.pytorch.org/whl/cu80/torch-0.3.0.post4-cp36-cp36m-linux_x86_64.whl (592.3MB)\n",
            "\u001b[K    100% |████████████████████████████████| 592.3MB 37.5MB/s \n",
            "\u001b[?25hRequirement already satisfied: pyyaml in /usr/local/lib/python3.6/dist-packages (from torch==0.3.0.post4)\n",
            "Requirement already satisfied: numpy in /usr/local/lib/python3.6/dist-packages (from torch==0.3.0.post4)\n",
            "Installing collected packages: torch\n",
            "Successfully installed torch-0.3.0.post4\n",
            "\u001b[33mYou are using pip version 9.0.3, however version 10.0.1 is available.\n",
            "You should consider upgrading via the 'pip install --upgrade pip' command.\u001b[0m\n"
          ],
          "name": "stdout"
        }
      ]
    },
    {
      "metadata": {
        "id": "7_ojW53oY37o",
        "colab_type": "text"
      },
      "cell_type": "markdown",
      "source": [
        ""
      ]
    },
    {
      "metadata": {
        "id": "1ykG9F1HY7KX",
        "colab_type": "text"
      },
      "cell_type": "markdown",
      "source": [
        "general preparations"
      ]
    },
    {
      "metadata": {
        "id": "v9L5JQGxVIe0",
        "colab_type": "code",
        "colab": {}
      },
      "cell_type": "code",
      "source": [
        "import numpy as np\n",
        "import matplotlib.pyplot as plt\n",
        "import torch\n",
        "from torch.autograd import Variable\n",
        "from torch.nn import init\n",
        "\n",
        "import itertools\n",
        "\n",
        "use_cuda = True\n",
        "use_cuda = use_cuda and torch.cuda.is_available()\n",
        "dtype = torch.FloatTensor\n",
        "\n",
        "if use_cuda:\n",
        "    dtype = torch.cuda.FloatTensor"
      ],
      "execution_count": 0,
      "outputs": []
    },
    {
      "metadata": {
        "id": "4zzrIXDyY_g1",
        "colab_type": "text"
      },
      "cell_type": "markdown",
      "source": [
        "create general model"
      ]
    },
    {
      "metadata": {
        "id": "LE7yFRDBVNNf",
        "colab_type": "code",
        "colab": {}
      },
      "cell_type": "code",
      "source": [
        "class Net(torch.nn.Module):\n",
        "    def __init__(self, D_in, H, D_out, bias=None):\n",
        "        super(Net, self).__init__()\n",
        "        self.fc1 = torch.nn.Linear(D_in, H)\n",
        "        self.fc2 = torch.nn.Linear(H, H)\n",
        "        self.fc3 = torch.nn.Linear(H, D_out)\n",
        "\n",
        "        init.xavier_uniform(self.fc1.weight, gain=np.sqrt(2))\n",
        "        init.xavier_uniform(self.fc2.weight, gain=np.sqrt(2))\n",
        "        init.xavier_uniform(self.fc3.weight, gain=np.sqrt(2))\n",
        "\n",
        "        if bias is not None:\n",
        "            init.constant(self.fc3.bias, bias)\n",
        "            self.fc3.bias.requires_grad = False\n",
        "\n",
        "        # self.activation = torch.nn.ReLU()\n",
        "        self.activation = torch.nn.Tanh()\n",
        "\n",
        "    def forward(self, x):\n",
        "        x = self.fc1(x)\n",
        "        x = self.activation(x)\n",
        "        x = self.fc2(x)\n",
        "        x = self.activation(x)\n",
        "        x = self.fc3(x)\n",
        "\n",
        "        return x"
      ],
      "execution_count": 0,
      "outputs": []
    },
    {
      "metadata": {
        "id": "Tg6mKkYrZDRF",
        "colab_type": "text"
      },
      "cell_type": "markdown",
      "source": [
        "prep data"
      ]
    },
    {
      "metadata": {
        "id": "rcTipYJWVcQ_",
        "colab_type": "code",
        "colab": {}
      },
      "cell_type": "code",
      "source": [
        "natom = 10\n",
        "npoint = 10000\n",
        "\n",
        "x1 = np.random.rand(natom, npoint, 1)\n",
        "x2 = np.random.rand(natom, npoint, 1)\n",
        "\n",
        "y = np.sum(np.exp(-x1) + np.sin(x2), axis=0)\n",
        "\n",
        "# x1 = 2.*(x1 - np.min(x1))/(np.max(x1)-np.min(x1)) - 1\n",
        "# x2 = 2.*(x2 - np.min(x2))/(np.max(x2)-np.min(x2)) - 1\n",
        "\n",
        "# x1 = (x1 - x1.mean()) / x1.std()\n",
        "# x2 = (x2 - x2.mean()) / x2.std()\n",
        "\n",
        "models = []\n",
        "for x in [x1, x2]:\n",
        "    model = Net(1, 10, 1) #, bias=x.mean())\n",
        "    if use_cuda:\n",
        "        model = model.cuda()\n",
        "    models.append(model)\n",
        "\n",
        "x1 = torch.autograd.Variable(torch.Tensor(x1).type(dtype))\n",
        "x2 = torch.autograd.Variable(torch.Tensor(x2).type(dtype))\n",
        "\n",
        "y = torch.autograd.Variable(torch.Tensor(y).type(dtype))\n",
        "\n",
        "parmchain = itertools.chain()\n",
        "for model in models:\n",
        "    parmchain = itertools.chain(parmchain, model.parameters())\n",
        "\n",
        "base_learning_rate = learning_rate = 1.e-1\n",
        "optimizer = torch.optim.Adam(filter(lambda p: p.requires_grad, parmchain), lr=learning_rate)\n",
        "# optimizer = torch.optim.SGD(filter(lambda p: p.requires_grad, parmchain), lr=learning_rate)\n",
        "\n",
        "lambda1 = lambda epoch: 0.999**epoch\n",
        "lambda1 = lambda epoch: 1.\n",
        "scheduler = torch.optim.lr_scheduler.LambdaLR(optimizer, lr_lambda=[lambda1])\n",
        "\n",
        "loss_func = torch.nn.MSELoss(size_average=True)\n",
        "\n",
        "nepoch = 1000\n",
        "\n",
        "def evaluate(models, features):\n",
        "    y_pred = 0.\n",
        "    for model, x in zip(models, features):\n",
        "        y_pred += torch.sum(model(x), dim=0)\n",
        "\n",
        "    return y_pred"
      ],
      "execution_count": 0,
      "outputs": []
    },
    {
      "metadata": {
        "id": "QqS8C7SQZFiN",
        "colab_type": "text"
      },
      "cell_type": "markdown",
      "source": [
        "optimize model"
      ]
    },
    {
      "metadata": {
        "id": "NvL-imraVkTE",
        "colab_type": "code",
        "colab": {
          "base_uri": "https://localhost:8080/",
          "height": 1817
        },
        "outputId": "692ceeb5-0c89-4dcf-f8de-0a23abd69cef"
      },
      "cell_type": "code",
      "source": [
        "for t in range(nepoch):\n",
        "    y_pred = evaluate(models, [x1, x2])\n",
        "\n",
        "    optimizer.zero_grad()\n",
        "    loss = loss_func(y_pred, y)\n",
        "    loss.backward()\n",
        "\n",
        "    optimizer.step()\n",
        "    scheduler.step()\n",
        "\n",
        "    if t % 10 == 0:\n",
        "        print(t, loss.data.cpu()[0])"
      ],
      "execution_count": 28,
      "outputs": [
        {
          "output_type": "stream",
          "text": [
            "0 621.08203125\n",
            "10 138.8348388671875\n",
            "20 4.9570770263671875\n",
            "30 13.362133979797363\n",
            "40 1.6901253461837769\n",
            "50 1.4829169511795044\n",
            "60 0.6719591021537781\n",
            "70 0.10760505497455597\n",
            "80 0.11764436960220337\n",
            "90 0.07165870070457458\n",
            "100 0.03292161226272583\n",
            "110 0.01613340526819229\n",
            "120 0.009915653616189957\n",
            "130 0.007666633464396\n",
            "140 0.006767227780073881\n",
            "150 0.006284095346927643\n",
            "160 0.005932649597525597\n",
            "170 0.005635642446577549\n",
            "180 0.005365018267184496\n",
            "190 0.005109759047627449\n",
            "200 0.004870153032243252\n",
            "210 0.004647109657526016\n",
            "220 0.004438943695276976\n",
            "230 0.004244574345648289\n",
            "240 0.004063383210450411\n",
            "250 0.003894534194841981\n",
            "260 0.0037372459191828966\n",
            "270 0.003590682987123728\n",
            "280 0.003454048652201891\n",
            "290 0.003326559439301491\n",
            "300 0.003207455389201641\n",
            "310 0.0030960189178586006\n",
            "320 0.0029915671329945326\n",
            "330 0.002893468365073204\n",
            "340 0.002801131922751665\n",
            "350 0.0027140153106302023\n",
            "360 0.0026316270232200623\n",
            "370 0.0025535086169838905\n",
            "380 0.002479256596416235\n",
            "390 0.002408502157777548\n",
            "400 0.0023409128189086914\n",
            "410 0.0022761935833841562\n",
            "420 0.0022140780929476023\n",
            "430 0.0021543409675359726\n",
            "440 0.00209677848033607\n",
            "450 0.002041199244558811\n",
            "460 0.0019874554127454758\n",
            "470 0.001935396809130907\n",
            "480 0.0018849121406674385\n",
            "490 0.0018358905799686909\n",
            "500 0.001788236666470766\n",
            "510 0.0017418735660612583\n",
            "520 0.001696732477284968\n",
            "530 0.00165274809114635\n",
            "540 0.0016098691849038005\n",
            "550 0.0015680503565818071\n",
            "560 0.0015272535383701324\n",
            "570 0.0014874387998133898\n",
            "580 0.0014485814608633518\n",
            "590 0.0014106497401371598\n",
            "600 0.001373620587401092\n",
            "610 0.001337470137514174\n",
            "620 0.0013021831400692463\n",
            "630 0.0012677378254011273\n",
            "640 0.0012341206893324852\n",
            "650 0.0012013171799480915\n",
            "660 0.001169314025901258\n",
            "670 0.0011380936484783888\n",
            "680 0.0011076484806835651\n",
            "690 0.001077963155694306\n",
            "700 0.0010490251006558537\n",
            "710 0.0010208238381892443\n",
            "720 0.0009933533146977425\n",
            "730 0.0009665967663750052\n",
            "740 0.0009405442979186773\n",
            "750 0.0009151871781796217\n",
            "760 0.0008905098075047135\n",
            "770 0.0008665027562528849\n",
            "780 0.0008431571768596768\n",
            "790 0.0008204607293009758\n",
            "800 0.0007984014227986336\n",
            "810 0.0007769670919515193\n",
            "820 0.0007561496458947659\n",
            "830 0.0007359330193139613\n",
            "840 0.0007163107511587441\n",
            "850 0.0006972671835683286\n",
            "860 0.000678794167470187\n",
            "870 0.0006608763942494988\n",
            "880 0.0006435054237954319\n",
            "890 0.0006266667624004185\n",
            "900 0.0006103523191995919\n",
            "910 0.0005945481825619936\n",
            "920 0.000579242710955441\n",
            "930 0.0005644244374707341\n",
            "940 0.0005500823608599603\n",
            "950 0.0005362042575143278\n",
            "960 0.000522780348546803\n",
            "970 0.0005097970133647323\n",
            "980 0.0004972435999661684\n",
            "990 0.00048510890337638557\n"
          ],
          "name": "stdout"
        }
      ]
    },
    {
      "metadata": {
        "id": "i5RW2HTvZHgn",
        "colab_type": "text"
      },
      "cell_type": "markdown",
      "source": [
        "plot results"
      ]
    },
    {
      "metadata": {
        "id": "2WmqdE9oVmDw",
        "colab_type": "code",
        "colab": {
          "base_uri": "https://localhost:8080/",
          "height": 348
        },
        "outputId": "1fe180e2-a7f0-4ebb-c8dc-226b78a0e2a5"
      },
      "cell_type": "code",
      "source": [
        "stride = 1000\n",
        "\n",
        "p1 = plt.plot(y.data.cpu().numpy()[::stride] / natom, label='total')\n",
        "p2 = plt.plot(np.exp(-x1[0].data.cpu().numpy().sum(axis=1))[::stride], label='f1')\n",
        "p3 = plt.plot(np.sin(x2[0].data.cpu().numpy().sum(axis=1))[::stride], label='f2')\n",
        "p4 = plt.plot(np.sin(x2[1].data.cpu().numpy().sum(axis=1))[::stride], label='f3')\n",
        "\n",
        "plt.plot(evaluate(models, [x1,x2]).data.cpu().numpy()[::stride] / natom, '--', color=p1[0].get_color())\n",
        "plt.plot(models[0](x1[0]).data.cpu().numpy().sum(axis=1)[::stride], '--', color=p2[0].get_color())\n",
        "plt.plot(models[1](x2[0]).data.cpu().numpy().sum(axis=1)[::stride], '--', color=p3[0].get_color())\n",
        "plt.plot(models[1](x2[1]).data.cpu().numpy().sum(axis=1)[::stride], '--', color=p4[0].get_color())\n",
        "\n",
        "plt.legend()\n",
        "\n",
        "plt.show()"
      ],
      "execution_count": 29,
      "outputs": [
        {
          "output_type": "display_data",
          "data": {
            "image/png": "[encoded data removed]",
            "text/plain": [
              "<matplotlib.figure.Figure at 0x7f7b0dbacd30>"
            ]
          },
          "metadata": {
            "tags": []
          }
        }
      ]
    }
  ]
}